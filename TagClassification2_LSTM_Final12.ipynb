{
  "cells": [
    {
      "cell_type": "code",
      "execution_count": 1,
      "metadata": {
        "id": "saGpZA0FfsgH"
      },
      "outputs": [],
      "source": [
        "import pandas as pd\n",
        "import numpy as np\n",
        "from sklearn.model_selection import train_test_split\n",
        "from nltk import word_tokenize\n",
        "from tensorflow.keras.preprocessing.text import Tokenizer\n",
        "from tensorflow.keras.preprocessing import sequence\n",
        "from tensorflow.keras.layers import GRU, Activation, Dense, Dropout, Input, Embedding\n",
        "from tensorflow.keras.models import Model"
      ]
    },
    {
      "cell_type": "code",
      "execution_count": 2,
      "metadata": {
        "colab": {
          "base_uri": "https://localhost:8080/"
        },
        "id": "46DZTwqkgknd",
        "outputId": "ad262717-629c-455c-d6da-53854c41708f"
      },
      "outputs": [
        {
          "output_type": "stream",
          "name": "stderr",
          "text": [
            "[nltk_data] Downloading package punkt to /root/nltk_data...\n",
            "[nltk_data]   Unzipping tokenizers/punkt.zip.\n"
          ]
        },
        {
          "output_type": "execute_result",
          "data": {
            "text/plain": [
              "True"
            ]
          },
          "metadata": {},
          "execution_count": 2
        }
      ],
      "source": [
        "import nltk\n",
        "nltk.download('punkt')"
      ]
    },
    {
      "cell_type": "code",
      "execution_count": 3,
      "metadata": {
        "id": "RT2UGmn1K7BV"
      },
      "outputs": [],
      "source": [
        "from sklearn.preprocessing import MultiLabelBinarizer"
      ]
    },
    {
      "cell_type": "code",
      "execution_count": 4,
      "metadata": {
        "id": "fY6oL_n_hSQZ"
      },
      "outputs": [],
      "source": [
        "from bs4 import BeautifulSoup\n",
        "from urllib.request import urlopen"
      ]
    },
    {
      "cell_type": "code",
      "execution_count": 5,
      "metadata": {
        "colab": {
          "base_uri": "https://localhost:8080/"
        },
        "id": "yTuD7r0QJweo",
        "outputId": "f14836e8-b467-45b2-cb1e-c8e85579a235"
      },
      "outputs": [
        {
          "output_type": "stream",
          "name": "stdout",
          "text": [
            "--2023-07-25 10:04:52--  https://www.dropbox.com/s/5721wcs2guuykzl/stacksample.zip?dl=0\n",
            "Resolving www.dropbox.com (www.dropbox.com)... 162.125.3.18, 2620:100:6018:18::a27d:312\n",
            "Connecting to www.dropbox.com (www.dropbox.com)|162.125.3.18|:443... connected.\n",
            "HTTP request sent, awaiting response... 302 Found\n",
            "Location: /s/raw/5721wcs2guuykzl/stacksample.zip [following]\n",
            "--2023-07-25 10:04:52--  https://www.dropbox.com/s/raw/5721wcs2guuykzl/stacksample.zip\n",
            "Reusing existing connection to www.dropbox.com:443.\n",
            "HTTP request sent, awaiting response... 302 Found\n",
            "Location: https://uc2d91232b6d230100f66fc4e7d1.dl.dropboxusercontent.com/cd/0/inline/CAi3f--8cf4eo_Z4gaSL9HXQIwI_oxYUiUx3gHf2BdnUWW-pofZnBK-r7LiV8bscVxoansm2KIDMVnqMICgwo16K2baDb4OvvGKIEcAEmh0ptQElXMJrU_CYD6PFIjD8qxTHb_EJOXRdmH8SgqJZf1NhTgeVWyl-O78MCTGEjmkUAA/file# [following]\n",
            "--2023-07-25 10:04:53--  https://uc2d91232b6d230100f66fc4e7d1.dl.dropboxusercontent.com/cd/0/inline/CAi3f--8cf4eo_Z4gaSL9HXQIwI_oxYUiUx3gHf2BdnUWW-pofZnBK-r7LiV8bscVxoansm2KIDMVnqMICgwo16K2baDb4OvvGKIEcAEmh0ptQElXMJrU_CYD6PFIjD8qxTHb_EJOXRdmH8SgqJZf1NhTgeVWyl-O78MCTGEjmkUAA/file\n",
            "Resolving uc2d91232b6d230100f66fc4e7d1.dl.dropboxusercontent.com (uc2d91232b6d230100f66fc4e7d1.dl.dropboxusercontent.com)... 162.125.3.15, 2620:100:6018:15::a27d:30f\n",
            "Connecting to uc2d91232b6d230100f66fc4e7d1.dl.dropboxusercontent.com (uc2d91232b6d230100f66fc4e7d1.dl.dropboxusercontent.com)|162.125.3.15|:443... connected.\n",
            "HTTP request sent, awaiting response... 302 Found\n",
            "Location: /cd/0/inline2/CAj5cbNb0mAEQS6bRPQj9g1M37nLT4jqMIRNqv26vQdO2L1HxPbCesZPhPxQMg-aV0xEvgkEpWq42Iag9MPVazNURWOQL4iFYQlm8Np1E90BWtnCJOGc03yG2U9EFVfj9fpSAy-Ik-3_aD7ggSj36_u-lZaISo2m98_wfchMb37OkBnb0U4mDfyV--hJWnzJUwQXEf64E-g2pQY7aFOnUDZ10x9uAec5WGZTdF33Tr2mRel-AVPG5O73lzP-TSOok96PTNZt2MmZWQCMW86odWiqvmeFG-YKAL5pAGdLoYbFquTVzKliDAOUQYuJRzaXNyylqz5i5SPforETaAlbCLk5QPEYyg7e-yPVhgoqvfz87BrpiCd6-n3G5bYmZqRg2PwYtzGTEBQorwapmn6o6XjMP_Zky1tqxvoV1c8GBOHvSQ/file [following]\n",
            "--2023-07-25 10:04:53--  https://uc2d91232b6d230100f66fc4e7d1.dl.dropboxusercontent.com/cd/0/inline2/CAj5cbNb0mAEQS6bRPQj9g1M37nLT4jqMIRNqv26vQdO2L1HxPbCesZPhPxQMg-aV0xEvgkEpWq42Iag9MPVazNURWOQL4iFYQlm8Np1E90BWtnCJOGc03yG2U9EFVfj9fpSAy-Ik-3_aD7ggSj36_u-lZaISo2m98_wfchMb37OkBnb0U4mDfyV--hJWnzJUwQXEf64E-g2pQY7aFOnUDZ10x9uAec5WGZTdF33Tr2mRel-AVPG5O73lzP-TSOok96PTNZt2MmZWQCMW86odWiqvmeFG-YKAL5pAGdLoYbFquTVzKliDAOUQYuJRzaXNyylqz5i5SPforETaAlbCLk5QPEYyg7e-yPVhgoqvfz87BrpiCd6-n3G5bYmZqRg2PwYtzGTEBQorwapmn6o6XjMP_Zky1tqxvoV1c8GBOHvSQ/file\n",
            "Reusing existing connection to uc2d91232b6d230100f66fc4e7d1.dl.dropboxusercontent.com:443.\n",
            "HTTP request sent, awaiting response... 200 OK\n",
            "Length: 1231288519 (1.1G) [application/zip]\n",
            "Saving to: ‘stacksample.zip?dl=0’\n",
            "\n",
            "stacksample.zip?dl= 100%[===================>]   1.15G  28.5MB/s    in 18s     \n",
            "\n",
            "2023-07-25 10:05:12 (63.8 MB/s) - ‘stacksample.zip?dl=0’ saved [1231288519/1231288519]\n",
            "\n"
          ]
        }
      ],
      "source": [
        "!wget 'https://www.dropbox.com/s/5721wcs2guuykzl/stacksample.zip?dl=0'"
      ]
    },
    {
      "cell_type": "code",
      "execution_count": 6,
      "metadata": {
        "colab": {
          "base_uri": "https://localhost:8080/"
        },
        "id": "uEdLfnr5LLwN",
        "outputId": "5e7ba912-a23f-4eb1-a3a7-8ad5b9de3b80"
      },
      "outputs": [
        {
          "output_type": "stream",
          "name": "stdout",
          "text": [
            "Archive:  stacksample.zip?dl=0\n",
            "  inflating: Answers.csv             \n",
            "  inflating: Questions.csv           \n",
            "  inflating: Tags.csv                \n"
          ]
        }
      ],
      "source": [
        "!unzip stacksample.zip?dl=0"
      ]
    },
    {
      "cell_type": "code",
      "execution_count": 7,
      "metadata": {
        "id": "pjASu9wsLkeF"
      },
      "outputs": [],
      "source": [
        "!rm stacksample.zip?dl=0"
      ]
    },
    {
      "cell_type": "code",
      "source": [
        "consideredMaxId = 1500000"
      ],
      "metadata": {
        "id": "-2uzxDi2GkRi"
      },
      "execution_count": 8,
      "outputs": []
    },
    {
      "cell_type": "code",
      "execution_count": 9,
      "metadata": {
        "id": "nBQArIjQME2R"
      },
      "outputs": [],
      "source": [
        "questionList = pd.read_csv('/content/Questions.csv', usecols=[\"Id\", \"Body\"], encoding = \"ISO-8859-1\")"
      ]
    },
    {
      "cell_type": "code",
      "source": [
        "tagList = pd.read_csv('/content/Tags.csv',usecols = [\"Id\", \"Tag\"], encoding = \"ISO-8859-1\")"
      ],
      "metadata": {
        "id": "xfHRJ29UBfBv"
      },
      "execution_count": 10,
      "outputs": []
    },
    {
      "cell_type": "code",
      "source": [
        "print('Before')\n",
        "#print(questionList.shape, answersList.shape, tagList.shape)\n",
        "print(questionList.shape, tagList.shape)\n",
        "questionList = questionList.loc[questionList['Id'] < consideredMaxId]\n",
        "#answersList = answersList.loc[answersList['Id'] < consideredMaxId]\n",
        "tagList = tagList.loc[tagList['Id'] < consideredMaxId]\n",
        "print('After')\n",
        "#print(questionList.shape, answersList.shape, tagList.shape)\n",
        "print(questionList.shape, tagList.shape)"
      ],
      "metadata": {
        "colab": {
          "base_uri": "https://localhost:8080/"
        },
        "id": "AVkH2fxKh2sa",
        "outputId": "fad29a8a-06d7-4c14-9f09-d56f1d4e23be"
      },
      "execution_count": 11,
      "outputs": [
        {
          "output_type": "stream",
          "name": "stdout",
          "text": [
            "Before\n",
            "(1264216, 2) (3750994, 2)\n",
            "After\n",
            "(28802, 2) (82881, 2)\n"
          ]
        }
      ]
    },
    {
      "cell_type": "code",
      "source": [
        "def GetProperData(txt):\n",
        "\tsoup = BeautifulSoup(txt,'lxml')\n",
        "\tparas=soup.find_all('p')\n",
        "\tparas=[p.text for p in paras]\n",
        "\treturn paras"
      ],
      "metadata": {
        "id": "Qp7j6iY4Agpw"
      },
      "execution_count": 12,
      "outputs": []
    },
    {
      "cell_type": "code",
      "source": [
        "questionList.sort_values(by=['Id'])\n",
        "questionList['Body'] = questionList.apply(lambda x: GetProperData(x['Body']), axis=1)\n",
        "questionList['Body'] = questionList.Body.apply(lambda x: ' '.join(x))"
      ],
      "metadata": {
        "id": "qF5gaoGDAlxc"
      },
      "execution_count": 13,
      "outputs": []
    },
    {
      "cell_type": "code",
      "execution_count": 14,
      "metadata": {
        "id": "RjkAzvRK25W-",
        "colab": {
          "base_uri": "https://localhost:8080/"
        },
        "outputId": "5ddc2892-17bc-4f41-9b62-1c3756d538a3"
      },
      "outputs": [
        {
          "output_type": "execute_result",
          "data": {
            "text/plain": [
              "Id      0\n",
              "Tag    32\n",
              "dtype: int64"
            ]
          },
          "metadata": {},
          "execution_count": 14
        }
      ],
      "source": [
        "tagList.isnull().sum()"
      ]
    },
    {
      "cell_type": "code",
      "execution_count": 15,
      "metadata": {
        "id": "IQAKfUA-26Rd"
      },
      "outputs": [],
      "source": [
        "tagList[\"Tag\"].fillna(\"_null\", inplace = True)"
      ]
    },
    {
      "cell_type": "code",
      "execution_count": 16,
      "metadata": {
        "id": "gHuVu2VS2-Ox",
        "colab": {
          "base_uri": "https://localhost:8080/"
        },
        "outputId": "bb657e01-6378-49c8-e218-ba24cc74aca7"
      },
      "outputs": [
        {
          "output_type": "execute_result",
          "data": {
            "text/plain": [
              "Id     0\n",
              "Tag    0\n",
              "dtype: int64"
            ]
          },
          "metadata": {},
          "execution_count": 16
        }
      ],
      "source": [
        "tagList.isnull().sum()"
      ]
    },
    {
      "cell_type": "code",
      "source": [
        "#top 10 most frequent Tags\n",
        "print(tagList['Tag'].value_counts())\n",
        "topTag = tagList['Tag'].value_counts()[:10].index.tolist()\n",
        "print(topTag)"
      ],
      "metadata": {
        "colab": {
          "base_uri": "https://localhost:8080/"
        },
        "id": "WX_zmOJ1aMTU",
        "outputId": "bec95007-4f3f-47ae-fe4f-54940bb94a54"
      },
      "execution_count": 17,
      "outputs": [
        {
          "output_type": "stream",
          "name": "stdout",
          "text": [
            "c#                    3899\n",
            ".net                  2280\n",
            "java                  2042\n",
            "asp.net               1815\n",
            "php                   1506\n",
            "                      ... \n",
            "webservicetemplate       1\n",
            "piccolo                  1\n",
            "freetype                 1\n",
            "freetype2                1\n",
            "mdns                     1\n",
            "Name: Tag, Length: 7291, dtype: int64\n",
            "['c#', '.net', 'java', 'asp.net', 'php', 'javascript', 'c++', 'python', 'sql', 'jquery']\n"
          ]
        }
      ]
    },
    {
      "cell_type": "code",
      "source": [
        "tagList_top = tagList[tagList['Tag'].isin(topTag)]"
      ],
      "metadata": {
        "id": "n5gbCdCabW5D"
      },
      "execution_count": 18,
      "outputs": []
    },
    {
      "cell_type": "code",
      "source": [
        "tagList = tagList_top\n",
        "print(tagList)"
      ],
      "metadata": {
        "colab": {
          "base_uri": "https://localhost:8080/"
        },
        "id": "g8DMDCq1cnbD",
        "outputId": "1327005e-2698-4e27-9333-d6616560515f"
      },
      "execution_count": 19,
      "outputs": [
        {
          "output_type": "stream",
          "name": "stdout",
          "text": [
            "            Id         Tag\n",
            "7          120         sql\n",
            "8          120     asp.net\n",
            "14         260          c#\n",
            "15         260        .net\n",
            "18         330         c++\n",
            "...        ...         ...\n",
            "82871  1499830     asp.net\n",
            "82874  1499950         php\n",
            "82875  1499950  javascript\n",
            "82876  1499950      jquery\n",
            "82878  1499970        java\n",
            "\n",
            "[17478 rows x 2 columns]\n"
          ]
        }
      ]
    },
    {
      "cell_type": "code",
      "source": [
        "questionList = questionList[questionList['Id'].isin(tagList['Id'])]\n"
      ],
      "metadata": {
        "id": "eSkMomzTT1Sw"
      },
      "execution_count": 20,
      "outputs": []
    },
    {
      "cell_type": "code",
      "source": [
        "def GetAllTags(Tag_id):\n",
        "    return tagList[tagList['Id'] == Tag_id['Id']].Tag.values\n",
        "\n",
        "temp = tagList.apply(GetAllTags, axis=1)\n",
        "print(type(temp))"
      ],
      "metadata": {
        "colab": {
          "base_uri": "https://localhost:8080/"
        },
        "id": "N41gqujHVEIl",
        "outputId": "e1496848-bfb4-4fc8-ad55-a711d51ee20d"
      },
      "execution_count": 21,
      "outputs": [
        {
          "output_type": "stream",
          "name": "stdout",
          "text": [
            "<class 'pandas.core.series.Series'>\n"
          ]
        }
      ]
    },
    {
      "cell_type": "code",
      "source": [
        "tagList=pd.concat([tagList, temp.rename('Tags')], axis=1)\n",
        "tagList.head()"
      ],
      "metadata": {
        "colab": {
          "base_uri": "https://localhost:8080/",
          "height": 206
        },
        "id": "xVy7ZpuTgswx",
        "outputId": "7642052c-800d-4201-ac13-aefc00cbc39c"
      },
      "execution_count": 22,
      "outputs": [
        {
          "output_type": "execute_result",
          "data": {
            "text/plain": [
              "     Id      Tag            Tags\n",
              "7   120      sql  [sql, asp.net]\n",
              "8   120  asp.net  [sql, asp.net]\n",
              "14  260       c#      [c#, .net]\n",
              "15  260     .net      [c#, .net]\n",
              "18  330      c++           [c++]"
            ],
            "text/html": [
              "\n",
              "\n",
              "  <div id=\"df-1525e95d-33c0-4762-8a9c-04c3763d2942\">\n",
              "    <div class=\"colab-df-container\">\n",
              "      <div>\n",
              "<style scoped>\n",
              "    .dataframe tbody tr th:only-of-type {\n",
              "        vertical-align: middle;\n",
              "    }\n",
              "\n",
              "    .dataframe tbody tr th {\n",
              "        vertical-align: top;\n",
              "    }\n",
              "\n",
              "    .dataframe thead th {\n",
              "        text-align: right;\n",
              "    }\n",
              "</style>\n",
              "<table border=\"1\" class=\"dataframe\">\n",
              "  <thead>\n",
              "    <tr style=\"text-align: right;\">\n",
              "      <th></th>\n",
              "      <th>Id</th>\n",
              "      <th>Tag</th>\n",
              "      <th>Tags</th>\n",
              "    </tr>\n",
              "  </thead>\n",
              "  <tbody>\n",
              "    <tr>\n",
              "      <th>7</th>\n",
              "      <td>120</td>\n",
              "      <td>sql</td>\n",
              "      <td>[sql, asp.net]</td>\n",
              "    </tr>\n",
              "    <tr>\n",
              "      <th>8</th>\n",
              "      <td>120</td>\n",
              "      <td>asp.net</td>\n",
              "      <td>[sql, asp.net]</td>\n",
              "    </tr>\n",
              "    <tr>\n",
              "      <th>14</th>\n",
              "      <td>260</td>\n",
              "      <td>c#</td>\n",
              "      <td>[c#, .net]</td>\n",
              "    </tr>\n",
              "    <tr>\n",
              "      <th>15</th>\n",
              "      <td>260</td>\n",
              "      <td>.net</td>\n",
              "      <td>[c#, .net]</td>\n",
              "    </tr>\n",
              "    <tr>\n",
              "      <th>18</th>\n",
              "      <td>330</td>\n",
              "      <td>c++</td>\n",
              "      <td>[c++]</td>\n",
              "    </tr>\n",
              "  </tbody>\n",
              "</table>\n",
              "</div>\n",
              "      <button class=\"colab-df-convert\" onclick=\"convertToInteractive('df-1525e95d-33c0-4762-8a9c-04c3763d2942')\"\n",
              "              title=\"Convert this dataframe to an interactive table.\"\n",
              "              style=\"display:none;\">\n",
              "\n",
              "  <svg xmlns=\"http://www.w3.org/2000/svg\" height=\"24px\"viewBox=\"0 0 24 24\"\n",
              "       width=\"24px\">\n",
              "    <path d=\"M0 0h24v24H0V0z\" fill=\"none\"/>\n",
              "    <path d=\"M18.56 5.44l.94 2.06.94-2.06 2.06-.94-2.06-.94-.94-2.06-.94 2.06-2.06.94zm-11 1L8.5 8.5l.94-2.06 2.06-.94-2.06-.94L8.5 2.5l-.94 2.06-2.06.94zm10 10l.94 2.06.94-2.06 2.06-.94-2.06-.94-.94-2.06-.94 2.06-2.06.94z\"/><path d=\"M17.41 7.96l-1.37-1.37c-.4-.4-.92-.59-1.43-.59-.52 0-1.04.2-1.43.59L10.3 9.45l-7.72 7.72c-.78.78-.78 2.05 0 2.83L4 21.41c.39.39.9.59 1.41.59.51 0 1.02-.2 1.41-.59l7.78-7.78 2.81-2.81c.8-.78.8-2.07 0-2.86zM5.41 20L4 18.59l7.72-7.72 1.47 1.35L5.41 20z\"/>\n",
              "  </svg>\n",
              "      </button>\n",
              "\n",
              "\n",
              "\n",
              "    <div id=\"df-16c0cfcf-d49a-44b3-8ff5-99fe24f55829\">\n",
              "      <button class=\"colab-df-quickchart\" onclick=\"quickchart('df-16c0cfcf-d49a-44b3-8ff5-99fe24f55829')\"\n",
              "              title=\"Suggest charts.\"\n",
              "              style=\"display:none;\">\n",
              "\n",
              "<svg xmlns=\"http://www.w3.org/2000/svg\" height=\"24px\"viewBox=\"0 0 24 24\"\n",
              "     width=\"24px\">\n",
              "    <g>\n",
              "        <path d=\"M19 3H5c-1.1 0-2 .9-2 2v14c0 1.1.9 2 2 2h14c1.1 0 2-.9 2-2V5c0-1.1-.9-2-2-2zM9 17H7v-7h2v7zm4 0h-2V7h2v10zm4 0h-2v-4h2v4z\"/>\n",
              "    </g>\n",
              "</svg>\n",
              "      </button>\n",
              "    </div>\n",
              "\n",
              "<style>\n",
              "  .colab-df-quickchart {\n",
              "    background-color: #E8F0FE;\n",
              "    border: none;\n",
              "    border-radius: 50%;\n",
              "    cursor: pointer;\n",
              "    display: none;\n",
              "    fill: #1967D2;\n",
              "    height: 32px;\n",
              "    padding: 0 0 0 0;\n",
              "    width: 32px;\n",
              "  }\n",
              "\n",
              "  .colab-df-quickchart:hover {\n",
              "    background-color: #E2EBFA;\n",
              "    box-shadow: 0px 1px 2px rgba(60, 64, 67, 0.3), 0px 1px 3px 1px rgba(60, 64, 67, 0.15);\n",
              "    fill: #174EA6;\n",
              "  }\n",
              "\n",
              "  [theme=dark] .colab-df-quickchart {\n",
              "    background-color: #3B4455;\n",
              "    fill: #D2E3FC;\n",
              "  }\n",
              "\n",
              "  [theme=dark] .colab-df-quickchart:hover {\n",
              "    background-color: #434B5C;\n",
              "    box-shadow: 0px 1px 3px 1px rgba(0, 0, 0, 0.15);\n",
              "    filter: drop-shadow(0px 1px 2px rgba(0, 0, 0, 0.3));\n",
              "    fill: #FFFFFF;\n",
              "  }\n",
              "</style>\n",
              "\n",
              "    <script>\n",
              "      async function quickchart(key) {\n",
              "        const containerElement = document.querySelector('#' + key);\n",
              "        const charts = await google.colab.kernel.invokeFunction(\n",
              "            'suggestCharts', [key], {});\n",
              "      }\n",
              "    </script>\n",
              "\n",
              "      <script>\n",
              "\n",
              "function displayQuickchartButton(domScope) {\n",
              "  let quickchartButtonEl =\n",
              "    domScope.querySelector('#df-16c0cfcf-d49a-44b3-8ff5-99fe24f55829 button.colab-df-quickchart');\n",
              "  quickchartButtonEl.style.display =\n",
              "    google.colab.kernel.accessAllowed ? 'block' : 'none';\n",
              "}\n",
              "\n",
              "        displayQuickchartButton(document);\n",
              "      </script>\n",
              "      <style>\n",
              "    .colab-df-container {\n",
              "      display:flex;\n",
              "      flex-wrap:wrap;\n",
              "      gap: 12px;\n",
              "    }\n",
              "\n",
              "    .colab-df-convert {\n",
              "      background-color: #E8F0FE;\n",
              "      border: none;\n",
              "      border-radius: 50%;\n",
              "      cursor: pointer;\n",
              "      display: none;\n",
              "      fill: #1967D2;\n",
              "      height: 32px;\n",
              "      padding: 0 0 0 0;\n",
              "      width: 32px;\n",
              "    }\n",
              "\n",
              "    .colab-df-convert:hover {\n",
              "      background-color: #E2EBFA;\n",
              "      box-shadow: 0px 1px 2px rgba(60, 64, 67, 0.3), 0px 1px 3px 1px rgba(60, 64, 67, 0.15);\n",
              "      fill: #174EA6;\n",
              "    }\n",
              "\n",
              "    [theme=dark] .colab-df-convert {\n",
              "      background-color: #3B4455;\n",
              "      fill: #D2E3FC;\n",
              "    }\n",
              "\n",
              "    [theme=dark] .colab-df-convert:hover {\n",
              "      background-color: #434B5C;\n",
              "      box-shadow: 0px 1px 3px 1px rgba(0, 0, 0, 0.15);\n",
              "      filter: drop-shadow(0px 1px 2px rgba(0, 0, 0, 0.3));\n",
              "      fill: #FFFFFF;\n",
              "    }\n",
              "  </style>\n",
              "\n",
              "      <script>\n",
              "        const buttonEl =\n",
              "          document.querySelector('#df-1525e95d-33c0-4762-8a9c-04c3763d2942 button.colab-df-convert');\n",
              "        buttonEl.style.display =\n",
              "          google.colab.kernel.accessAllowed ? 'block' : 'none';\n",
              "\n",
              "        async function convertToInteractive(key) {\n",
              "          const element = document.querySelector('#df-1525e95d-33c0-4762-8a9c-04c3763d2942');\n",
              "          const dataTable =\n",
              "            await google.colab.kernel.invokeFunction('convertToInteractive',\n",
              "                                                     [key], {});\n",
              "          if (!dataTable) return;\n",
              "\n",
              "          const docLinkHtml = 'Like what you see? Visit the ' +\n",
              "            '<a target=\"_blank\" href=https://colab.research.google.com/notebooks/data_table.ipynb>data table notebook</a>'\n",
              "            + ' to learn more about interactive tables.';\n",
              "          element.innerHTML = '';\n",
              "          dataTable['output_type'] = 'display_data';\n",
              "          await google.colab.output.renderOutput(dataTable, element);\n",
              "          const docLink = document.createElement('div');\n",
              "          docLink.innerHTML = docLinkHtml;\n",
              "          element.appendChild(docLink);\n",
              "        }\n",
              "      </script>\n",
              "    </div>\n",
              "  </div>\n"
            ]
          },
          "metadata": {},
          "execution_count": 22
        }
      ]
    },
    {
      "cell_type": "code",
      "source": [
        "tagList = tagList.drop(['Tag'], axis = 1)"
      ],
      "metadata": {
        "id": "gFs1oIjni14_"
      },
      "execution_count": 23,
      "outputs": []
    },
    {
      "cell_type": "code",
      "source": [
        "tagList = tagList.drop_duplicates(subset=\"Id\", keep=\"first\", inplace=False)"
      ],
      "metadata": {
        "id": "vkYPyJWDi173"
      },
      "execution_count": 24,
      "outputs": []
    },
    {
      "cell_type": "code",
      "source": [
        "questionList = pd.merge(questionList, tagList, on='Id')"
      ],
      "metadata": {
        "id": "gDC2ZeIli1_e"
      },
      "execution_count": 25,
      "outputs": []
    },
    {
      "cell_type": "code",
      "source": [
        "questionList.isnull().sum()"
      ],
      "metadata": {
        "colab": {
          "base_uri": "https://localhost:8080/"
        },
        "id": "4aRJCfO-i2Dp",
        "outputId": "7f48dfce-9bff-49a3-fa23-fef84736850e"
      },
      "execution_count": 26,
      "outputs": [
        {
          "output_type": "execute_result",
          "data": {
            "text/plain": [
              "Id      0\n",
              "Body    0\n",
              "Tags    0\n",
              "dtype: int64"
            ]
          },
          "metadata": {},
          "execution_count": 26
        }
      ]
    },
    {
      "cell_type": "code",
      "source": [
        "sent_lens=[]\n",
        "for sent in questionList['Body']:\n",
        "    sent_lens.append(len(word_tokenize(sent)))"
      ],
      "metadata": {
        "id": "Xr0rxuS7nE2O"
      },
      "execution_count": 27,
      "outputs": []
    },
    {
      "cell_type": "code",
      "source": [
        "max(sent_lens)"
      ],
      "metadata": {
        "colab": {
          "base_uri": "https://localhost:8080/"
        },
        "id": "2X0df0qhnE7O",
        "outputId": "cd02519c-ac61-47f4-b21c-9afc1a575431"
      },
      "execution_count": 28,
      "outputs": [
        {
          "output_type": "execute_result",
          "data": {
            "text/plain": [
              "1223"
            ]
          },
          "metadata": {},
          "execution_count": 28
        }
      ]
    },
    {
      "cell_type": "code",
      "source": [
        "for percentile in [0.81, 0.82, 0.83, 0.84, 0.85, 0.86, 0.87, 0.88, 0.89, 0.91, 0.92, 0.93, 0.94, 0.95, 0.96, 0.97]:\n",
        "  print('For percentile:', percentile, \":\", np.quantile(sent_lens, percentile))\n"
      ],
      "metadata": {
        "colab": {
          "base_uri": "https://localhost:8080/"
        },
        "id": "8Hex6rVCnE-0",
        "outputId": "d0b8a8a1-1b61-4a8b-d769-ea28384280f4"
      },
      "execution_count": 29,
      "outputs": [
        {
          "output_type": "stream",
          "name": "stdout",
          "text": [
            "For percentile: 0.81 : 158.0\n",
            "For percentile: 0.82 : 161.0\n",
            "For percentile: 0.83 : 165.0\n",
            "For percentile: 0.84 : 170.0\n",
            "For percentile: 0.85 : 175.0\n",
            "For percentile: 0.86 : 180.0\n",
            "For percentile: 0.87 : 185.0\n",
            "For percentile: 0.88 : 191.0\n",
            "For percentile: 0.89 : 197.0\n",
            "For percentile: 0.91 : 213.0\n",
            "For percentile: 0.92 : 223.0\n",
            "For percentile: 0.93 : 233.0\n",
            "For percentile: 0.94 : 245.0\n",
            "For percentile: 0.95 : 260.0\n",
            "For percentile: 0.96 : 279.0\n",
            "For percentile: 0.97 : 303.0\n"
          ]
        }
      ]
    },
    {
      "cell_type": "code",
      "source": [
        "max_len = int(np.quantile(sent_lens, 0.85))\n",
        "print(max_len)"
      ],
      "metadata": {
        "colab": {
          "base_uri": "https://localhost:8080/"
        },
        "id": "aTClOhhNnFCn",
        "outputId": "cd2d4257-37e9-4099-d1f7-1cc568e59e9d"
      },
      "execution_count": 30,
      "outputs": [
        {
          "output_type": "stream",
          "name": "stdout",
          "text": [
            "175\n"
          ]
        }
      ]
    },
    {
      "cell_type": "code",
      "source": [
        "tok = Tokenizer(char_level=False,split=' ')\n",
        "tok.fit_on_texts(questionList['Body'])"
      ],
      "metadata": {
        "id": "9APMhEminFFp"
      },
      "execution_count": 31,
      "outputs": []
    },
    {
      "cell_type": "code",
      "source": [
        "multilabel = MultiLabelBinarizer()\n",
        "multilabel.fit_transform(questionList['Tags'])"
      ],
      "metadata": {
        "colab": {
          "base_uri": "https://localhost:8080/"
        },
        "id": "Ndb8VMnjf3fS",
        "outputId": "143de9bf-483a-49e1-ba79-99dd82d4c83f"
      },
      "execution_count": 32,
      "outputs": [
        {
          "output_type": "execute_result",
          "data": {
            "text/plain": [
              "array([[0, 1, 0, ..., 0, 0, 1],\n",
              "       [1, 0, 1, ..., 0, 0, 0],\n",
              "       [0, 0, 0, ..., 0, 0, 0],\n",
              "       ...,\n",
              "       [0, 1, 0, ..., 0, 0, 0],\n",
              "       [0, 0, 0, ..., 1, 0, 0],\n",
              "       [0, 0, 0, ..., 0, 0, 0]])"
            ]
          },
          "metadata": {},
          "execution_count": 32
        }
      ]
    },
    {
      "cell_type": "code",
      "source": [
        "multilabel.classes_"
      ],
      "metadata": {
        "colab": {
          "base_uri": "https://localhost:8080/"
        },
        "id": "_o__F67PcukW",
        "outputId": "0b392f3c-27b3-4700-fbb6-1e50dcb69492"
      },
      "execution_count": 33,
      "outputs": [
        {
          "output_type": "execute_result",
          "data": {
            "text/plain": [
              "array(['.net', 'asp.net', 'c#', 'c++', 'java', 'javascript', 'jquery',\n",
              "       'php', 'python', 'sql'], dtype=object)"
            ]
          },
          "metadata": {},
          "execution_count": 33
        }
      ]
    },
    {
      "cell_type": "code",
      "source": [
        "Q_train, Q_test = train_test_split(questionList,test_size=0.2,random_state=2)\n",
        "x_train = Q_train['Body']\n",
        "y_train = Q_train['Tags']\n",
        "x_test  = Q_test['Body']\n",
        "y_test  = Q_test['Tags']"
      ],
      "metadata": {
        "id": "qnbxUO3ocumu"
      },
      "execution_count": 34,
      "outputs": []
    },
    {
      "cell_type": "code",
      "source": [
        "#input to model Train_X = sequences_matrix_train\n",
        "sequences_train = tok.texts_to_sequences(x_train)\n",
        "sequences_matrix_train = sequence.pad_sequences(sequences_train,maxlen=max_len)\n"
      ],
      "metadata": {
        "id": "rh_6au1acupC"
      },
      "execution_count": 35,
      "outputs": []
    },
    {
      "cell_type": "code",
      "source": [
        "#input to model Test_X = sequences_matrix_test\n",
        "sequences_test = tok.texts_to_sequences(x_test)\n",
        "sequences_matrix_test = sequence.pad_sequences(sequences_test, maxlen=max_len)"
      ],
      "metadata": {
        "id": "_UU5YZeMcusc"
      },
      "execution_count": 36,
      "outputs": []
    },
    {
      "cell_type": "code",
      "source": [
        "vocab_len = len(tok.index_word.keys())\n",
        "vocab_len"
      ],
      "metadata": {
        "colab": {
          "base_uri": "https://localhost:8080/"
        },
        "id": "niwHszpicnlF",
        "outputId": "d49c1bb5-f513-4439-a1d9-10f24a47c3f5"
      },
      "execution_count": 37,
      "outputs": [
        {
          "output_type": "execute_result",
          "data": {
            "text/plain": [
              "34483"
            ]
          },
          "metadata": {},
          "execution_count": 37
        }
      ]
    },
    {
      "cell_type": "code",
      "source": [
        "#Output to model Train_Y = y_train_multiLevel\n",
        "y_train_multiLevel = multilabel.transform(y_train)"
      ],
      "metadata": {
        "id": "ndy2hzyOqrka"
      },
      "execution_count": 38,
      "outputs": []
    },
    {
      "cell_type": "code",
      "source": [
        "outputNode = len(multilabel.classes_)\n",
        "max_len, outputNode"
      ],
      "metadata": {
        "colab": {
          "base_uri": "https://localhost:8080/"
        },
        "id": "vjOxlEVfqrmz",
        "outputId": "740910b3-53f9-4151-f089-ba53f4e9e31e"
      },
      "execution_count": 39,
      "outputs": [
        {
          "output_type": "execute_result",
          "data": {
            "text/plain": [
              "(175, 10)"
            ]
          },
          "metadata": {},
          "execution_count": 39
        }
      ]
    },
    {
      "cell_type": "code",
      "source": [
        "#Output to model Test_Y = y_test_multiLevel\n",
        "y_test_multiLevel = multilabel.transform(y_test)"
      ],
      "metadata": {
        "id": "LLnSvbn5qrpK"
      },
      "execution_count": 40,
      "outputs": []
    },
    {
      "cell_type": "code",
      "source": [
        "def RNN():\n",
        "    inputs = Input(name='inputs',shape=[max_len])\n",
        "\n",
        "    layer = Embedding(vocab_len+1,1500,input_length=max_len,\n",
        "                      mask_zero=True)(inputs)\n",
        "    layer = GRU(400)(layer)\n",
        "    layer = Dense(200,name='FC1')(layer)\n",
        "    layer = Activation('relu')(layer)\n",
        "    layer = Dense(100,name='FC2')(layer)\n",
        "    layer = Activation('relu')(layer)\n",
        "    layer = Dropout(0.5)(layer)\n",
        "    layer = Dense(outputNode,name='out_layer')(layer)\n",
        "    #layer = Activation('sigmoid')(layer)\n",
        "    layer = Activation('softmax')(layer)\n",
        "    model = Model(inputs=inputs,outputs=layer)\n",
        "    return model"
      ],
      "metadata": {
        "id": "wWaNHADSqrrt"
      },
      "execution_count": 41,
      "outputs": []
    },
    {
      "cell_type": "code",
      "source": [
        "model = RNN()\n",
        "model.summary()\n",
        "\n",
        "model.compile(loss='binary_crossentropy',optimizer='adam', metrics=['accuracy'])"
      ],
      "metadata": {
        "id": "QgY8M1fap7-l",
        "outputId": "96e34601-ca0b-4a20-85e4-3fb4ac2ac706",
        "colab": {
          "base_uri": "https://localhost:8080/"
        }
      },
      "execution_count": 42,
      "outputs": [
        {
          "output_type": "stream",
          "name": "stdout",
          "text": [
            "Model: \"model\"\n",
            "_________________________________________________________________\n",
            " Layer (type)                Output Shape              Param #   \n",
            "=================================================================\n",
            " inputs (InputLayer)         [(None, 175)]             0         \n",
            "                                                                 \n",
            " embedding (Embedding)       (None, 175, 1500)         51726000  \n",
            "                                                                 \n",
            " gru (GRU)                   (None, 400)               2282400   \n",
            "                                                                 \n",
            " FC1 (Dense)                 (None, 200)               80200     \n",
            "                                                                 \n",
            " activation (Activation)     (None, 200)               0         \n",
            "                                                                 \n",
            " FC2 (Dense)                 (None, 100)               20100     \n",
            "                                                                 \n",
            " activation_1 (Activation)   (None, 100)               0         \n",
            "                                                                 \n",
            " dropout (Dropout)           (None, 100)               0         \n",
            "                                                                 \n",
            " out_layer (Dense)           (None, 10)                1010      \n",
            "                                                                 \n",
            " activation_2 (Activation)   (None, 10)                0         \n",
            "                                                                 \n",
            "=================================================================\n",
            "Total params: 54,109,710\n",
            "Trainable params: 54,109,710\n",
            "Non-trainable params: 0\n",
            "_________________________________________________________________\n"
          ]
        }
      ]
    },
    {
      "cell_type": "code",
      "source": [
        "model.fit(sequences_matrix_train,y_train_multiLevel,batch_size=50,\n",
        "          epochs=3,validation_data=(sequences_matrix_test,y_test_multiLevel))\n"
      ],
      "metadata": {
        "id": "Qr1wDsKKp8BD",
        "outputId": "d6a03234-3742-476a-fcae-2af93db2087e",
        "colab": {
          "base_uri": "https://localhost:8080/"
        }
      },
      "execution_count": 43,
      "outputs": [
        {
          "output_type": "stream",
          "name": "stdout",
          "text": [
            "Epoch 1/3\n",
            "237/237 [==============================] - 1697s 7s/step - loss: 0.3802 - accuracy: 0.1840 - val_loss: 0.2567 - val_accuracy: 0.4146\n",
            "Epoch 2/3\n",
            "237/237 [==============================] - 1687s 7s/step - loss: 0.2110 - accuracy: 0.5677 - val_loss: 0.1786 - val_accuracy: 0.6213\n",
            "Epoch 3/3\n",
            "237/237 [==============================] - 1676s 7s/step - loss: 0.1406 - accuracy: 0.7240 - val_loss: 0.1867 - val_accuracy: 0.6254\n"
          ]
        },
        {
          "output_type": "execute_result",
          "data": {
            "text/plain": [
              "<keras.callbacks.History at 0x7e807f0b29b0>"
            ]
          },
          "metadata": {},
          "execution_count": 43
        }
      ]
    },
    {
      "cell_type": "code",
      "source": [
        "\n",
        "\n",
        "predictions=model.predict(sequences_matrix_test)\n",
        "\n",
        "from sklearn.metrics import roc_auc_score\n",
        "\n",
        "roc_auc_score(y_test_multiLevel,predictions)"
      ],
      "metadata": {
        "id": "VD9nsY4xp8En",
        "colab": {
          "base_uri": "https://localhost:8080/"
        },
        "outputId": "20dd2214-afc4-4610-f8f1-f70b6a33cf8b"
      },
      "execution_count": 44,
      "outputs": [
        {
          "output_type": "stream",
          "name": "stdout",
          "text": [
            "93/93 [==============================] - 97s 1s/step\n"
          ]
        },
        {
          "output_type": "execute_result",
          "data": {
            "text/plain": [
              "0.9209441832025032"
            ]
          },
          "metadata": {},
          "execution_count": 44
        }
      ]
    }
  ],
  "metadata": {
    "accelerator": "TPU",
    "colab": {
      "provenance": [],
      "gpuType": "T4"
    },
    "kernelspec": {
      "display_name": "Python 3",
      "name": "python3"
    },
    "language_info": {
      "name": "python"
    }
  },
  "nbformat": 4,
  "nbformat_minor": 0
}