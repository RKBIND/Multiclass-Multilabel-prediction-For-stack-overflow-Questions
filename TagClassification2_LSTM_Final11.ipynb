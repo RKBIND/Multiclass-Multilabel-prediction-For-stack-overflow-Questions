{
  "cells": [
    {
      "cell_type": "code",
      "execution_count": 1,
      "metadata": {
        "id": "saGpZA0FfsgH"
      },
      "outputs": [],
      "source": [
        "import pandas as pd\n",
        "import numpy as np\n",
        "from sklearn.model_selection import train_test_split\n",
        "from nltk import word_tokenize\n",
        "from tensorflow.keras.preprocessing.text import Tokenizer\n",
        "from tensorflow.keras.preprocessing import sequence\n",
        "from tensorflow.keras.layers import GRU, Activation, Dense, Dropout, Input, Embedding\n",
        "from tensorflow.keras.models import Model"
      ]
    },
    {
      "cell_type": "code",
      "execution_count": 2,
      "metadata": {
        "colab": {
          "base_uri": "https://localhost:8080/"
        },
        "id": "46DZTwqkgknd",
        "outputId": "612289a0-c0b7-4f99-f695-8a810b05ead8"
      },
      "outputs": [
        {
          "output_type": "stream",
          "name": "stderr",
          "text": [
            "[nltk_data] Downloading package punkt to /root/nltk_data...\n",
            "[nltk_data]   Unzipping tokenizers/punkt.zip.\n"
          ]
        },
        {
          "output_type": "execute_result",
          "data": {
            "text/plain": [
              "True"
            ]
          },
          "metadata": {},
          "execution_count": 2
        }
      ],
      "source": [
        "import nltk\n",
        "nltk.download('punkt')"
      ]
    },
    {
      "cell_type": "code",
      "execution_count": 3,
      "metadata": {
        "id": "RT2UGmn1K7BV"
      },
      "outputs": [],
      "source": [
        "from sklearn.preprocessing import MultiLabelBinarizer"
      ]
    },
    {
      "cell_type": "code",
      "execution_count": 4,
      "metadata": {
        "id": "fY6oL_n_hSQZ"
      },
      "outputs": [],
      "source": [
        "from bs4 import BeautifulSoup\n",
        "from urllib.request import urlopen"
      ]
    },
    {
      "cell_type": "code",
      "execution_count": 5,
      "metadata": {
        "colab": {
          "base_uri": "https://localhost:8080/"
        },
        "id": "yTuD7r0QJweo",
        "outputId": "3285b022-1538-4427-b534-e8ac86d9a718"
      },
      "outputs": [
        {
          "output_type": "stream",
          "name": "stdout",
          "text": [
            "--2023-07-25 05:22:57--  https://www.dropbox.com/s/5721wcs2guuykzl/stacksample.zip?dl=0\n",
            "Resolving www.dropbox.com (www.dropbox.com)... 162.125.5.18, 2620:100:601d:18::a27d:512\n",
            "Connecting to www.dropbox.com (www.dropbox.com)|162.125.5.18|:443... connected.\n",
            "HTTP request sent, awaiting response... 302 Found\n",
            "Location: /s/raw/5721wcs2guuykzl/stacksample.zip [following]\n",
            "--2023-07-25 05:22:57--  https://www.dropbox.com/s/raw/5721wcs2guuykzl/stacksample.zip\n",
            "Reusing existing connection to www.dropbox.com:443.\n",
            "HTTP request sent, awaiting response... 302 Found\n",
            "Location: https://uc0223ffa9ece9b1b698d23c891b.dl.dropboxusercontent.com/cd/0/inline/CAjtYROfoyLGhpeeWS9oHMdyD6G3GjjZLrN2YYDn1M9gtketEMJWjVZA5j0_Zid7z-iRHEtiOJp4Rd_wxoBJQJqfqsBcICDkvxo13yVOQaNZCNSyqzfP5ivuBXZS2tUkacpY1OeXJvrOHOorvA_nGYM-4PiJ8Hy3m7AVIwto_LVB2A/file# [following]\n",
            "--2023-07-25 05:22:57--  https://uc0223ffa9ece9b1b698d23c891b.dl.dropboxusercontent.com/cd/0/inline/CAjtYROfoyLGhpeeWS9oHMdyD6G3GjjZLrN2YYDn1M9gtketEMJWjVZA5j0_Zid7z-iRHEtiOJp4Rd_wxoBJQJqfqsBcICDkvxo13yVOQaNZCNSyqzfP5ivuBXZS2tUkacpY1OeXJvrOHOorvA_nGYM-4PiJ8Hy3m7AVIwto_LVB2A/file\n",
            "Resolving uc0223ffa9ece9b1b698d23c891b.dl.dropboxusercontent.com (uc0223ffa9ece9b1b698d23c891b.dl.dropboxusercontent.com)... 162.125.5.15, 2620:100:601c:15::a27d:60f\n",
            "Connecting to uc0223ffa9ece9b1b698d23c891b.dl.dropboxusercontent.com (uc0223ffa9ece9b1b698d23c891b.dl.dropboxusercontent.com)|162.125.5.15|:443... connected.\n",
            "HTTP request sent, awaiting response... 302 Found\n",
            "Location: /cd/0/inline2/CAgITX8Yyjag1MLZuCx2zMafbl0konRlnIU5Z6kNGuTdYjmTxfoYcf3KUl5-DiAoqkw26pUUHooTtDkkyMbIXxNnExErnJ1TZbxyYT9-pA8koNJel-uc1gFFwKp-LBdR5WsEBC_vmey39XdYjMvRoCXyfviMJKE2Mw15kCxJ6oBN31yHiLKYLHC-d8m0ltsiNZwUrdA8UPw4IBMcO84e3JN8adZ1-Uq0VSCey8VghoVVWiQJJTyVZXhGryTj6PlTRN2VGAvnzxd6MXCeuz0hUy26_7HWDhsJxc2cn7ClTxGZaGdPd3mb5b9ocznrii4NQEa0XDSe1nACtffxhyEJhr-7-bSfXIUYo19_JDUk58u1d67Add1UDV1DLgXZ7H5s5hjEEWRea5F7Zl4msMERu_WjA4uIxZcpKetqyphaS-oJQA/file [following]\n",
            "--2023-07-25 05:22:58--  https://uc0223ffa9ece9b1b698d23c891b.dl.dropboxusercontent.com/cd/0/inline2/CAgITX8Yyjag1MLZuCx2zMafbl0konRlnIU5Z6kNGuTdYjmTxfoYcf3KUl5-DiAoqkw26pUUHooTtDkkyMbIXxNnExErnJ1TZbxyYT9-pA8koNJel-uc1gFFwKp-LBdR5WsEBC_vmey39XdYjMvRoCXyfviMJKE2Mw15kCxJ6oBN31yHiLKYLHC-d8m0ltsiNZwUrdA8UPw4IBMcO84e3JN8adZ1-Uq0VSCey8VghoVVWiQJJTyVZXhGryTj6PlTRN2VGAvnzxd6MXCeuz0hUy26_7HWDhsJxc2cn7ClTxGZaGdPd3mb5b9ocznrii4NQEa0XDSe1nACtffxhyEJhr-7-bSfXIUYo19_JDUk58u1d67Add1UDV1DLgXZ7H5s5hjEEWRea5F7Zl4msMERu_WjA4uIxZcpKetqyphaS-oJQA/file\n",
            "Reusing existing connection to uc0223ffa9ece9b1b698d23c891b.dl.dropboxusercontent.com:443.\n",
            "HTTP request sent, awaiting response... 200 OK\n",
            "Length: 1231288519 (1.1G) [application/zip]\n",
            "Saving to: ‘stacksample.zip?dl=0’\n",
            "\n",
            "stacksample.zip?dl= 100%[===================>]   1.15G  67.1MB/s    in 19s     \n",
            "\n",
            "2023-07-25 05:23:20 (60.6 MB/s) - ‘stacksample.zip?dl=0’ saved [1231288519/1231288519]\n",
            "\n"
          ]
        }
      ],
      "source": [
        "!wget 'https://www.dropbox.com/s/5721wcs2guuykzl/stacksample.zip?dl=0'"
      ]
    },
    {
      "cell_type": "code",
      "execution_count": 6,
      "metadata": {
        "colab": {
          "base_uri": "https://localhost:8080/"
        },
        "id": "uEdLfnr5LLwN",
        "outputId": "61d838ea-c89f-4bd2-a974-0585975e2cee"
      },
      "outputs": [
        {
          "output_type": "stream",
          "name": "stdout",
          "text": [
            "Archive:  stacksample.zip?dl=0\n",
            "  inflating: Answers.csv             \n",
            "  inflating: Questions.csv           \n",
            "  inflating: Tags.csv                \n"
          ]
        }
      ],
      "source": [
        "!unzip stacksample.zip?dl=0"
      ]
    },
    {
      "cell_type": "code",
      "execution_count": 7,
      "metadata": {
        "id": "pjASu9wsLkeF"
      },
      "outputs": [],
      "source": [
        "!rm stacksample.zip?dl=0"
      ]
    },
    {
      "cell_type": "code",
      "source": [],
      "metadata": {
        "id": "-2uzxDi2GkRi"
      },
      "execution_count": 8,
      "outputs": []
    },
    {
      "cell_type": "code",
      "execution_count": 9,
      "metadata": {
        "id": "nBQArIjQME2R"
      },
      "outputs": [],
      "source": [
        "questionList = pd.read_csv('/content/Questions.csv', usecols=[\"Id\", \"Body\"], encoding = \"ISO-8859-1\")"
      ]
    },
    {
      "cell_type": "code",
      "source": [
        "tagList = pd.read_csv('/content/Tags.csv',usecols = [\"Id\", \"Tag\"], encoding = \"ISO-8859-1\")"
      ],
      "metadata": {
        "id": "xfHRJ29UBfBv"
      },
      "execution_count": 10,
      "outputs": []
    },
    {
      "cell_type": "code",
      "source": [
        "def GetProperData(txt):\n",
        "\tsoup = BeautifulSoup(txt,'lxml')\n",
        "\tparas=soup.find_all('p')\n",
        "\tparas=[p.text for p in paras]\n",
        "\treturn paras"
      ],
      "metadata": {
        "id": "Qp7j6iY4Agpw"
      },
      "execution_count": 12,
      "outputs": []
    },
    {
      "cell_type": "code",
      "source": [
        "questionList.sort_values(by=['Id'])\n",
        "questionList['Body'] = questionList.apply(lambda x: GetProperData(x['Body']), axis=1)\n",
        "questionList['Body'] = questionList.Body.apply(lambda x: ' '.join(x))"
      ],
      "metadata": {
        "id": "qF5gaoGDAlxc"
      },
      "execution_count": 13,
      "outputs": []
    },
    {
      "cell_type": "code",
      "execution_count": 14,
      "metadata": {
        "id": "RjkAzvRK25W-",
        "colab": {
          "base_uri": "https://localhost:8080/"
        },
        "outputId": "9dfcf334-441f-4efa-9710-1863f9a5ec78"
      },
      "outputs": [
        {
          "output_type": "execute_result",
          "data": {
            "text/plain": [
              "Id      0\n",
              "Tag    32\n",
              "dtype: int64"
            ]
          },
          "metadata": {},
          "execution_count": 14
        }
      ],
      "source": [
        "tagList.isnull().sum()"
      ]
    },
    {
      "cell_type": "code",
      "execution_count": 15,
      "metadata": {
        "id": "IQAKfUA-26Rd"
      },
      "outputs": [],
      "source": [
        "tagList[\"Tag\"].fillna(\"_null\", inplace = True)"
      ]
    },
    {
      "cell_type": "code",
      "execution_count": 16,
      "metadata": {
        "id": "gHuVu2VS2-Ox",
        "colab": {
          "base_uri": "https://localhost:8080/"
        },
        "outputId": "db59626f-269f-4b35-f161-2a7b2ab7b176"
      },
      "outputs": [
        {
          "output_type": "execute_result",
          "data": {
            "text/plain": [
              "Id     0\n",
              "Tag    0\n",
              "dtype: int64"
            ]
          },
          "metadata": {},
          "execution_count": 16
        }
      ],
      "source": [
        "tagList.isnull().sum()"
      ]
    },
    {
      "cell_type": "code",
      "source": [
        "#top 10 most frequent Tags\n",
        "print(tagList['Tag'].value_counts())\n",
        "topTag = tagList['Tag'].value_counts()[:10].index.tolist()\n",
        "print(topTag)"
      ],
      "metadata": {
        "colab": {
          "base_uri": "https://localhost:8080/"
        },
        "id": "WX_zmOJ1aMTU",
        "outputId": "21e2c012-892f-4aca-bea5-fb904fb95c53"
      },
      "execution_count": 17,
      "outputs": [
        {
          "output_type": "stream",
          "name": "stdout",
          "text": [
            "c#                    3899\n",
            ".net                  2280\n",
            "java                  2042\n",
            "asp.net               1815\n",
            "php                   1506\n",
            "                      ... \n",
            "webservicetemplate       1\n",
            "piccolo                  1\n",
            "freetype                 1\n",
            "freetype2                1\n",
            "mdns                     1\n",
            "Name: Tag, Length: 7291, dtype: int64\n",
            "['c#', '.net', 'java', 'asp.net', 'php', 'javascript', 'c++', 'python', 'sql', 'jquery']\n"
          ]
        }
      ]
    },
    {
      "cell_type": "code",
      "source": [
        "tagList_top = tagList[tagList['Tag'].isin(topTag)]"
      ],
      "metadata": {
        "id": "n5gbCdCabW5D"
      },
      "execution_count": 18,
      "outputs": []
    },
    {
      "cell_type": "code",
      "source": [
        "tagList = tagList_top\n",
        "print(tagList)"
      ],
      "metadata": {
        "colab": {
          "base_uri": "https://localhost:8080/"
        },
        "id": "g8DMDCq1cnbD",
        "outputId": "7e112f82-8cea-4d47-dee9-45db333a60f1"
      },
      "execution_count": 19,
      "outputs": [
        {
          "output_type": "stream",
          "name": "stdout",
          "text": [
            "            Id         Tag\n",
            "7          120         sql\n",
            "8          120     asp.net\n",
            "14         260          c#\n",
            "15         260        .net\n",
            "18         330         c++\n",
            "...        ...         ...\n",
            "82871  1499830     asp.net\n",
            "82874  1499950         php\n",
            "82875  1499950  javascript\n",
            "82876  1499950      jquery\n",
            "82878  1499970        java\n",
            "\n",
            "[17478 rows x 2 columns]\n"
          ]
        }
      ]
    },
    {
      "cell_type": "code",
      "source": [
        "questionList = questionList[questionList['Id'].isin(tagList['Id'])]\n"
      ],
      "metadata": {
        "id": "eSkMomzTT1Sw"
      },
      "execution_count": 20,
      "outputs": []
    },
    {
      "cell_type": "code",
      "source": [
        "def GetAllTags(Tag_id):\n",
        "    return tagList[tagList['Id'] == Tag_id['Id']].Tag.values\n",
        "\n",
        "temp = tagList.apply(GetAllTags, axis=1)\n",
        "print(type(temp))"
      ],
      "metadata": {
        "colab": {
          "base_uri": "https://localhost:8080/"
        },
        "id": "N41gqujHVEIl",
        "outputId": "e66a0109-8e75-4ca9-f6d9-6caf3f44dbf5"
      },
      "execution_count": 21,
      "outputs": [
        {
          "output_type": "stream",
          "name": "stdout",
          "text": [
            "<class 'pandas.core.series.Series'>\n"
          ]
        }
      ]
    },
    {
      "cell_type": "code",
      "source": [
        "tagList=pd.concat([tagList, temp.rename('Tags')], axis=1)\n",
        "tagList.head()"
      ],
      "metadata": {
        "colab": {
          "base_uri": "https://localhost:8080/",
          "height": 206
        },
        "id": "xVy7ZpuTgswx",
        "outputId": "27fab084-8a13-47ec-9aa8-1ef3cc50c89c"
      },
      "execution_count": 22,
      "outputs": [
        {
          "output_type": "execute_result",
          "data": {
            "text/plain": [
              "     Id      Tag            Tags\n",
              "7   120      sql  [sql, asp.net]\n",
              "8   120  asp.net  [sql, asp.net]\n",
              "14  260       c#      [c#, .net]\n",
              "15  260     .net      [c#, .net]\n",
              "18  330      c++           [c++]"
            ],
            "text/html": [
              "\n",
              "\n",
              "  <div id=\"df-c4753db5-1d17-4782-86e5-7740aba1eb27\">\n",
              "    <div class=\"colab-df-container\">\n",
              "      <div>\n",
              "<style scoped>\n",
              "    .dataframe tbody tr th:only-of-type {\n",
              "        vertical-align: middle;\n",
              "    }\n",
              "\n",
              "    .dataframe tbody tr th {\n",
              "        vertical-align: top;\n",
              "    }\n",
              "\n",
              "    .dataframe thead th {\n",
              "        text-align: right;\n",
              "    }\n",
              "</style>\n",
              "<table border=\"1\" class=\"dataframe\">\n",
              "  <thead>\n",
              "    <tr style=\"text-align: right;\">\n",
              "      <th></th>\n",
              "      <th>Id</th>\n",
              "      <th>Tag</th>\n",
              "      <th>Tags</th>\n",
              "    </tr>\n",
              "  </thead>\n",
              "  <tbody>\n",
              "    <tr>\n",
              "      <th>7</th>\n",
              "      <td>120</td>\n",
              "      <td>sql</td>\n",
              "      <td>[sql, asp.net]</td>\n",
              "    </tr>\n",
              "    <tr>\n",
              "      <th>8</th>\n",
              "      <td>120</td>\n",
              "      <td>asp.net</td>\n",
              "      <td>[sql, asp.net]</td>\n",
              "    </tr>\n",
              "    <tr>\n",
              "      <th>14</th>\n",
              "      <td>260</td>\n",
              "      <td>c#</td>\n",
              "      <td>[c#, .net]</td>\n",
              "    </tr>\n",
              "    <tr>\n",
              "      <th>15</th>\n",
              "      <td>260</td>\n",
              "      <td>.net</td>\n",
              "      <td>[c#, .net]</td>\n",
              "    </tr>\n",
              "    <tr>\n",
              "      <th>18</th>\n",
              "      <td>330</td>\n",
              "      <td>c++</td>\n",
              "      <td>[c++]</td>\n",
              "    </tr>\n",
              "  </tbody>\n",
              "</table>\n",
              "</div>\n",
              "      <button class=\"colab-df-convert\" onclick=\"convertToInteractive('df-c4753db5-1d17-4782-86e5-7740aba1eb27')\"\n",
              "              title=\"Convert this dataframe to an interactive table.\"\n",
              "              style=\"display:none;\">\n",
              "\n",
              "  <svg xmlns=\"http://www.w3.org/2000/svg\" height=\"24px\"viewBox=\"0 0 24 24\"\n",
              "       width=\"24px\">\n",
              "    <path d=\"M0 0h24v24H0V0z\" fill=\"none\"/>\n",
              "    <path d=\"M18.56 5.44l.94 2.06.94-2.06 2.06-.94-2.06-.94-.94-2.06-.94 2.06-2.06.94zm-11 1L8.5 8.5l.94-2.06 2.06-.94-2.06-.94L8.5 2.5l-.94 2.06-2.06.94zm10 10l.94 2.06.94-2.06 2.06-.94-2.06-.94-.94-2.06-.94 2.06-2.06.94z\"/><path d=\"M17.41 7.96l-1.37-1.37c-.4-.4-.92-.59-1.43-.59-.52 0-1.04.2-1.43.59L10.3 9.45l-7.72 7.72c-.78.78-.78 2.05 0 2.83L4 21.41c.39.39.9.59 1.41.59.51 0 1.02-.2 1.41-.59l7.78-7.78 2.81-2.81c.8-.78.8-2.07 0-2.86zM5.41 20L4 18.59l7.72-7.72 1.47 1.35L5.41 20z\"/>\n",
              "  </svg>\n",
              "      </button>\n",
              "\n",
              "\n",
              "\n",
              "    <div id=\"df-b6ca4637-b83f-4099-b6dc-f86dca006223\">\n",
              "      <button class=\"colab-df-quickchart\" onclick=\"quickchart('df-b6ca4637-b83f-4099-b6dc-f86dca006223')\"\n",
              "              title=\"Suggest charts.\"\n",
              "              style=\"display:none;\">\n",
              "\n",
              "<svg xmlns=\"http://www.w3.org/2000/svg\" height=\"24px\"viewBox=\"0 0 24 24\"\n",
              "     width=\"24px\">\n",
              "    <g>\n",
              "        <path d=\"M19 3H5c-1.1 0-2 .9-2 2v14c0 1.1.9 2 2 2h14c1.1 0 2-.9 2-2V5c0-1.1-.9-2-2-2zM9 17H7v-7h2v7zm4 0h-2V7h2v10zm4 0h-2v-4h2v4z\"/>\n",
              "    </g>\n",
              "</svg>\n",
              "      </button>\n",
              "    </div>\n",
              "\n",
              "<style>\n",
              "  .colab-df-quickchart {\n",
              "    background-color: #E8F0FE;\n",
              "    border: none;\n",
              "    border-radius: 50%;\n",
              "    cursor: pointer;\n",
              "    display: none;\n",
              "    fill: #1967D2;\n",
              "    height: 32px;\n",
              "    padding: 0 0 0 0;\n",
              "    width: 32px;\n",
              "  }\n",
              "\n",
              "  .colab-df-quickchart:hover {\n",
              "    background-color: #E2EBFA;\n",
              "    box-shadow: 0px 1px 2px rgba(60, 64, 67, 0.3), 0px 1px 3px 1px rgba(60, 64, 67, 0.15);\n",
              "    fill: #174EA6;\n",
              "  }\n",
              "\n",
              "  [theme=dark] .colab-df-quickchart {\n",
              "    background-color: #3B4455;\n",
              "    fill: #D2E3FC;\n",
              "  }\n",
              "\n",
              "  [theme=dark] .colab-df-quickchart:hover {\n",
              "    background-color: #434B5C;\n",
              "    box-shadow: 0px 1px 3px 1px rgba(0, 0, 0, 0.15);\n",
              "    filter: drop-shadow(0px 1px 2px rgba(0, 0, 0, 0.3));\n",
              "    fill: #FFFFFF;\n",
              "  }\n",
              "</style>\n",
              "\n",
              "    <script>\n",
              "      async function quickchart(key) {\n",
              "        const containerElement = document.querySelector('#' + key);\n",
              "        const charts = await google.colab.kernel.invokeFunction(\n",
              "            'suggestCharts', [key], {});\n",
              "      }\n",
              "    </script>\n",
              "\n",
              "      <script>\n",
              "\n",
              "function displayQuickchartButton(domScope) {\n",
              "  let quickchartButtonEl =\n",
              "    domScope.querySelector('#df-b6ca4637-b83f-4099-b6dc-f86dca006223 button.colab-df-quickchart');\n",
              "  quickchartButtonEl.style.display =\n",
              "    google.colab.kernel.accessAllowed ? 'block' : 'none';\n",
              "}\n",
              "\n",
              "        displayQuickchartButton(document);\n",
              "      </script>\n",
              "      <style>\n",
              "    .colab-df-container {\n",
              "      display:flex;\n",
              "      flex-wrap:wrap;\n",
              "      gap: 12px;\n",
              "    }\n",
              "\n",
              "    .colab-df-convert {\n",
              "      background-color: #E8F0FE;\n",
              "      border: none;\n",
              "      border-radius: 50%;\n",
              "      cursor: pointer;\n",
              "      display: none;\n",
              "      fill: #1967D2;\n",
              "      height: 32px;\n",
              "      padding: 0 0 0 0;\n",
              "      width: 32px;\n",
              "    }\n",
              "\n",
              "    .colab-df-convert:hover {\n",
              "      background-color: #E2EBFA;\n",
              "      box-shadow: 0px 1px 2px rgba(60, 64, 67, 0.3), 0px 1px 3px 1px rgba(60, 64, 67, 0.15);\n",
              "      fill: #174EA6;\n",
              "    }\n",
              "\n",
              "    [theme=dark] .colab-df-convert {\n",
              "      background-color: #3B4455;\n",
              "      fill: #D2E3FC;\n",
              "    }\n",
              "\n",
              "    [theme=dark] .colab-df-convert:hover {\n",
              "      background-color: #434B5C;\n",
              "      box-shadow: 0px 1px 3px 1px rgba(0, 0, 0, 0.15);\n",
              "      filter: drop-shadow(0px 1px 2px rgba(0, 0, 0, 0.3));\n",
              "      fill: #FFFFFF;\n",
              "    }\n",
              "  </style>\n",
              "\n",
              "      <script>\n",
              "        const buttonEl =\n",
              "          document.querySelector('#df-c4753db5-1d17-4782-86e5-7740aba1eb27 button.colab-df-convert');\n",
              "        buttonEl.style.display =\n",
              "          google.colab.kernel.accessAllowed ? 'block' : 'none';\n",
              "\n",
              "        async function convertToInteractive(key) {\n",
              "          const element = document.querySelector('#df-c4753db5-1d17-4782-86e5-7740aba1eb27');\n",
              "          const dataTable =\n",
              "            await google.colab.kernel.invokeFunction('convertToInteractive',\n",
              "                                                     [key], {});\n",
              "          if (!dataTable) return;\n",
              "\n",
              "          const docLinkHtml = 'Like what you see? Visit the ' +\n",
              "            '<a target=\"_blank\" href=https://colab.research.google.com/notebooks/data_table.ipynb>data table notebook</a>'\n",
              "            + ' to learn more about interactive tables.';\n",
              "          element.innerHTML = '';\n",
              "          dataTable['output_type'] = 'display_data';\n",
              "          await google.colab.output.renderOutput(dataTable, element);\n",
              "          const docLink = document.createElement('div');\n",
              "          docLink.innerHTML = docLinkHtml;\n",
              "          element.appendChild(docLink);\n",
              "        }\n",
              "      </script>\n",
              "    </div>\n",
              "  </div>\n"
            ]
          },
          "metadata": {},
          "execution_count": 22
        }
      ]
    },
    {
      "cell_type": "code",
      "source": [
        "tagList = tagList.drop(['Tag'], axis = 1)"
      ],
      "metadata": {
        "id": "gFs1oIjni14_"
      },
      "execution_count": 23,
      "outputs": []
    },
    {
      "cell_type": "code",
      "source": [
        "tagList = tagList.drop_duplicates(subset=\"Id\", keep=\"first\", inplace=False)"
      ],
      "metadata": {
        "id": "vkYPyJWDi173"
      },
      "execution_count": 24,
      "outputs": []
    },
    {
      "cell_type": "code",
      "source": [
        "questionList = pd.merge(questionList, tagList, on='Id')"
      ],
      "metadata": {
        "id": "gDC2ZeIli1_e"
      },
      "execution_count": 25,
      "outputs": []
    },
    {
      "cell_type": "code",
      "source": [
        "questionList.isnull().sum()"
      ],
      "metadata": {
        "colab": {
          "base_uri": "https://localhost:8080/"
        },
        "id": "4aRJCfO-i2Dp",
        "outputId": "035fafd9-4776-42b7-ea5d-31e432060fce"
      },
      "execution_count": 26,
      "outputs": [
        {
          "output_type": "execute_result",
          "data": {
            "text/plain": [
              "Id      0\n",
              "Body    0\n",
              "Tags    0\n",
              "dtype: int64"
            ]
          },
          "metadata": {},
          "execution_count": 26
        }
      ]
    },
    {
      "cell_type": "code",
      "source": [
        "sent_lens=[]\n",
        "for sent in questionList['Body']:\n",
        "    sent_lens.append(len(word_tokenize(sent)))"
      ],
      "metadata": {
        "id": "Xr0rxuS7nE2O"
      },
      "execution_count": 27,
      "outputs": []
    },
    {
      "cell_type": "code",
      "source": [
        "max(sent_lens)"
      ],
      "metadata": {
        "colab": {
          "base_uri": "https://localhost:8080/"
        },
        "id": "2X0df0qhnE7O",
        "outputId": "83e8f3ec-bdf9-4547-8505-3e7c82bca38d"
      },
      "execution_count": 28,
      "outputs": [
        {
          "output_type": "execute_result",
          "data": {
            "text/plain": [
              "1223"
            ]
          },
          "metadata": {},
          "execution_count": 28
        }
      ]
    },
    {
      "cell_type": "code",
      "source": [
        "for percentile in [0.81, 0.82, 0.83, 0.84, 0.85, 0.86, 0.87, 0.88, 0.89, 0.91, 0.92, 0.93, 0.94, 0.95, 0.96, 0.97]:\n",
        "  print('For percentile:', percentile, \":\", np.quantile(sent_lens, percentile))\n"
      ],
      "metadata": {
        "colab": {
          "base_uri": "https://localhost:8080/"
        },
        "id": "8Hex6rVCnE-0",
        "outputId": "07c72ee1-bc55-4518-9783-95f8928ed23e"
      },
      "execution_count": 29,
      "outputs": [
        {
          "output_type": "stream",
          "name": "stdout",
          "text": [
            "For percentile: 0.81 : 158.0\n",
            "For percentile: 0.82 : 161.0\n",
            "For percentile: 0.83 : 165.0\n",
            "For percentile: 0.84 : 170.0\n",
            "For percentile: 0.85 : 175.0\n",
            "For percentile: 0.86 : 180.0\n",
            "For percentile: 0.87 : 185.0\n",
            "For percentile: 0.88 : 191.0\n",
            "For percentile: 0.89 : 197.0\n",
            "For percentile: 0.91 : 213.0\n",
            "For percentile: 0.92 : 223.0\n",
            "For percentile: 0.93 : 233.0\n",
            "For percentile: 0.94 : 245.0\n",
            "For percentile: 0.95 : 260.0\n",
            "For percentile: 0.96 : 279.0\n",
            "For percentile: 0.97 : 303.0\n"
          ]
        }
      ]
    },
    {
      "cell_type": "code",
      "source": [
        "max_len = int(np.quantile(sent_lens, 0.85))\n",
        "print(max_len)"
      ],
      "metadata": {
        "colab": {
          "base_uri": "https://localhost:8080/"
        },
        "id": "aTClOhhNnFCn",
        "outputId": "313d2ff7-3ed8-4f37-9fae-9c0d2b1e6309"
      },
      "execution_count": 30,
      "outputs": [
        {
          "output_type": "stream",
          "name": "stdout",
          "text": [
            "175\n"
          ]
        }
      ]
    },
    {
      "cell_type": "code",
      "source": [
        "tok = Tokenizer(char_level=False,split=' ')\n",
        "tok.fit_on_texts(questionList['Body'])"
      ],
      "metadata": {
        "id": "9APMhEminFFp"
      },
      "execution_count": 31,
      "outputs": []
    },
    {
      "cell_type": "code",
      "source": [
        "multilabel = MultiLabelBinarizer()\n",
        "multilabel.fit_transform(questionList['Tags'])"
      ],
      "metadata": {
        "colab": {
          "base_uri": "https://localhost:8080/"
        },
        "id": "Ndb8VMnjf3fS",
        "outputId": "411cb70a-6564-46f1-dec9-970f0bd2e393"
      },
      "execution_count": 32,
      "outputs": [
        {
          "output_type": "execute_result",
          "data": {
            "text/plain": [
              "array([[0, 1, 0, ..., 0, 0, 1],\n",
              "       [1, 0, 1, ..., 0, 0, 0],\n",
              "       [0, 0, 0, ..., 0, 0, 0],\n",
              "       ...,\n",
              "       [0, 1, 0, ..., 0, 0, 0],\n",
              "       [0, 0, 0, ..., 1, 0, 0],\n",
              "       [0, 0, 0, ..., 0, 0, 0]])"
            ]
          },
          "metadata": {},
          "execution_count": 32
        }
      ]
    },
    {
      "cell_type": "code",
      "source": [
        "multilabel.classes_"
      ],
      "metadata": {
        "colab": {
          "base_uri": "https://localhost:8080/"
        },
        "id": "_o__F67PcukW",
        "outputId": "78b32b33-9103-4dc7-8528-e0e258b3b886"
      },
      "execution_count": 33,
      "outputs": [
        {
          "output_type": "execute_result",
          "data": {
            "text/plain": [
              "array(['.net', 'asp.net', 'c#', 'c++', 'java', 'javascript', 'jquery',\n",
              "       'php', 'python', 'sql'], dtype=object)"
            ]
          },
          "metadata": {},
          "execution_count": 33
        }
      ]
    },
    {
      "cell_type": "code",
      "source": [
        "Q_train, Q_test = train_test_split(questionList,test_size=0.2,random_state=2)\n",
        "x_train = Q_train['Body']\n",
        "y_train = Q_train['Tags']\n",
        "x_test  = Q_test['Body']\n",
        "y_test  = Q_test['Tags']"
      ],
      "metadata": {
        "id": "qnbxUO3ocumu"
      },
      "execution_count": 34,
      "outputs": []
    },
    {
      "cell_type": "code",
      "source": [
        "#input to model Train_X = sequences_matrix_train\n",
        "sequences_train = tok.texts_to_sequences(x_train)\n",
        "sequences_matrix_train = sequence.pad_sequences(sequences_train,maxlen=max_len)\n"
      ],
      "metadata": {
        "id": "rh_6au1acupC"
      },
      "execution_count": 35,
      "outputs": []
    },
    {
      "cell_type": "code",
      "source": [
        "#input to model Test_X = sequences_matrix_test\n",
        "sequences_test = tok.texts_to_sequences(x_test)\n",
        "sequences_matrix_test = sequence.pad_sequences(sequences_test, maxlen=max_len)"
      ],
      "metadata": {
        "id": "_UU5YZeMcusc"
      },
      "execution_count": 36,
      "outputs": []
    },
    {
      "cell_type": "code",
      "source": [
        "vocab_len = len(tok.index_word.keys())\n",
        "vocab_len"
      ],
      "metadata": {
        "colab": {
          "base_uri": "https://localhost:8080/"
        },
        "id": "niwHszpicnlF",
        "outputId": "47fa6c2e-ddee-4f9f-c09f-10b2637f9461"
      },
      "execution_count": 37,
      "outputs": [
        {
          "output_type": "execute_result",
          "data": {
            "text/plain": [
              "34483"
            ]
          },
          "metadata": {},
          "execution_count": 37
        }
      ]
    },
    {
      "cell_type": "code",
      "source": [
        "#Output to model Train_Y = y_train_multiLevel\n",
        "y_train_multiLevel = multilabel.transform(y_train)"
      ],
      "metadata": {
        "id": "ndy2hzyOqrka"
      },
      "execution_count": 38,
      "outputs": []
    },
    {
      "cell_type": "code",
      "source": [
        "outputNode = len(multilabel.classes_)\n",
        "max_len, outputNode"
      ],
      "metadata": {
        "colab": {
          "base_uri": "https://localhost:8080/"
        },
        "id": "vjOxlEVfqrmz",
        "outputId": "ed0e5a50-87c9-482d-f650-e48ceb02ba73"
      },
      "execution_count": 39,
      "outputs": [
        {
          "output_type": "execute_result",
          "data": {
            "text/plain": [
              "(175, 10)"
            ]
          },
          "metadata": {},
          "execution_count": 39
        }
      ]
    },
    {
      "cell_type": "code",
      "source": [
        "#Output to model Test_Y = y_test_multiLevel\n",
        "y_test_multiLevel = multilabel.transform(y_test)"
      ],
      "metadata": {
        "id": "LLnSvbn5qrpK"
      },
      "execution_count": 40,
      "outputs": []
    },
    {
      "cell_type": "code",
      "source": [
        "def RNN():\n",
        "    inputs = Input(name='inputs',shape=[max_len])\n",
        "\n",
        "    layer = Embedding(vocab_len+1,1500,input_length=max_len,\n",
        "                      mask_zero=True)(inputs)\n",
        "    layer = GRU(400)(layer)\n",
        "    layer = Dense(200,name='FC1')(layer)\n",
        "    layer = Activation('relu')(layer)\n",
        "    layer = Dense(100,name='FC2')(layer)\n",
        "    layer = Activation('relu')(layer)\n",
        "    layer = Dropout(0.5)(layer)\n",
        "    layer = Dense(outputNode,name='out_layer')(layer)\n",
        "    #layer = Activation('sigmoid')(layer)\n",
        "    layer = Activation('softmax')(layer)\n",
        "    model = Model(inputs=inputs,outputs=layer)\n",
        "    return model"
      ],
      "metadata": {
        "id": "wWaNHADSqrrt"
      },
      "execution_count": 41,
      "outputs": []
    },
    {
      "cell_type": "code",
      "source": [
        "model = RNN()\n",
        "model.summary()\n",
        "\n",
        "model.compile(loss='binary_crossentropy',optimizer='adam', metrics=['accuracy'])"
      ],
      "metadata": {
        "id": "QgY8M1fap7-l",
        "outputId": "c62a0a41-5fb8-425d-946a-b36d60aa562d",
        "colab": {
          "base_uri": "https://localhost:8080/"
        }
      },
      "execution_count": 42,
      "outputs": [
        {
          "output_type": "stream",
          "name": "stdout",
          "text": [
            "Model: \"model\"\n",
            "_________________________________________________________________\n",
            " Layer (type)                Output Shape              Param #   \n",
            "=================================================================\n",
            " inputs (InputLayer)         [(None, 175)]             0         \n",
            "                                                                 \n",
            " embedding (Embedding)       (None, 175, 1500)         51726000  \n",
            "                                                                 \n",
            " gru (GRU)                   (None, 400)               2282400   \n",
            "                                                                 \n",
            " FC1 (Dense)                 (None, 200)               80200     \n",
            "                                                                 \n",
            " activation (Activation)     (None, 200)               0         \n",
            "                                                                 \n",
            " FC2 (Dense)                 (None, 100)               20100     \n",
            "                                                                 \n",
            " activation_1 (Activation)   (None, 100)               0         \n",
            "                                                                 \n",
            " dropout (Dropout)           (None, 100)               0         \n",
            "                                                                 \n",
            " out_layer (Dense)           (None, 10)                1010      \n",
            "                                                                 \n",
            " activation_2 (Activation)   (None, 10)                0         \n",
            "                                                                 \n",
            "=================================================================\n",
            "Total params: 54,109,710\n",
            "Trainable params: 54,109,710\n",
            "Non-trainable params: 0\n",
            "_________________________________________________________________\n"
          ]
        }
      ]
    },
    {
      "cell_type": "code",
      "source": [
        "model.fit(sequences_matrix_train,y_train_multiLevel,batch_size=50,\n",
        "          epochs=3,validation_data=(sequences_matrix_test,y_test_multiLevel))\n"
      ],
      "metadata": {
        "id": "Qr1wDsKKp8BD",
        "outputId": "9fac33ef-5681-426b-95e8-a99b1bd41e4a",
        "colab": {
          "base_uri": "https://localhost:8080/"
        }
      },
      "execution_count": null,
      "outputs": [
        {
          "output_type": "stream",
          "name": "stdout",
          "text": [
            "Epoch 1/3\n",
            " 95/237 [===========>..................] - ETA: 13:23 - loss: 0.4070 - accuracy: 0.1442"
          ]
        }
      ]
    },
    {
      "cell_type": "code",
      "source": [
        "\n",
        "\n",
        "predictions=model.predict(sequences_matrix_test)\n",
        "\n",
        "from sklearn.metrics import roc_auc_score\n",
        "\n",
        "roc_auc_score(y_test_multiLevel,predictions)"
      ],
      "metadata": {
        "id": "VD9nsY4xp8En"
      },
      "execution_count": null,
      "outputs": []
    }
  ],
  "metadata": {
    "accelerator": "TPU",
    "colab": {
      "provenance": [],
      "gpuType": "T4"
    },
    "kernelspec": {
      "display_name": "Python 3",
      "name": "python3"
    },
    "language_info": {
      "name": "python"
    }
  },
  "nbformat": 4,
  "nbformat_minor": 0
}